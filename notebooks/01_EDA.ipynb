{
 "cells": [
  {
   "cell_type": "markdown",
   "id": "02fca865",
   "metadata": {},
   "source": [
    "# 01 - Exploratory Data Analysis"
   ]
  },
  {
   "cell_type": "markdown",
   "id": "5cc26a95",
   "metadata": {},
   "source": [
    "## Objective\n",
    "Understand the distribution, trends, and relationships in the dataset."
   ]
  },
  {
   "cell_type": "code",
   "execution_count": null,
   "id": "86e7cdc6",
   "metadata": {},
   "outputs": [],
   "source": [
    "import pandas as pd\n",
    "import matplotlib.pyplot as plt\n",
    "import seaborn as sns\n",
    "\n",
    "# Load cleaned dataset\n",
    "df = pd.read_csv('../data/cleaned/cleaned_orders.csv')\n",
    "df['order_date'] = pd.to_datetime(df['order_date'])\n",
    "df.head()"
   ]
  },
  {
   "cell_type": "markdown",
   "id": "a9b2acb2",
   "metadata": {},
   "source": [
    "## 1. Dataset Overview"
   ]
  },
  {
   "cell_type": "code",
   "execution_count": null,
   "id": "5ee5dd82",
   "metadata": {},
   "outputs": [],
   "source": [
    "df.info()"
   ]
  },
  {
   "cell_type": "code",
   "execution_count": null,
   "id": "d17d6048",
   "metadata": {},
   "outputs": [],
   "source": [
    "df.describe()"
   ]
  },
  {
   "cell_type": "markdown",
   "id": "3fb64faf",
   "metadata": {},
   "source": [
    "## 2. Missing Values and Duplicates"
   ]
  },
  {
   "cell_type": "code",
   "execution_count": null,
   "id": "b12c82e5",
   "metadata": {},
   "outputs": [],
   "source": [
    "df.isnull().sum()"
   ]
  },
  {
   "cell_type": "code",
   "execution_count": null,
   "id": "066b2ec2",
   "metadata": {},
   "outputs": [],
   "source": [
    "df.duplicated().sum()"
   ]
  },
  {
   "cell_type": "markdown",
   "id": "7fea709a",
   "metadata": {},
   "source": [
    "## 3. Sales Distribution"
   ]
  },
  {
   "cell_type": "code",
   "execution_count": null,
   "id": "4a3778bb",
   "metadata": {},
   "outputs": [],
   "source": [
    "plt.figure(figsize=(10,6))\n",
    "sns.histplot(df['sales'], bins=50, kde=True)\n",
    "plt.title('Sales Distribution')\n",
    "plt.xlabel('Sales')\n",
    "plt.ylabel('Frequency')\n",
    "plt.show()"
   ]
  },
  {
   "cell_type": "markdown",
   "id": "aa5deaa5",
   "metadata": {},
   "source": [
    "## 4. Monthly Sales Trend"
   ]
  },
  {
   "cell_type": "code",
   "execution_count": null,
   "id": "2c8ab614",
   "metadata": {},
   "outputs": [],
   "source": [
    "monthly = df.groupby('order_month')['sales'].sum()\n",
    "monthly.plot(figsize=(10,5), marker='o', title='Monthly Sales')\n",
    "plt.ylabel('Total Sales')\n",
    "plt.show()"
   ]
  },
  {
   "cell_type": "markdown",
   "id": "b5fe24e8",
   "metadata": {},
   "source": [
    "## 5. Top 10 Products by Sales"
   ]
  },
  {
   "cell_type": "code",
   "execution_count": null,
   "id": "330f2199",
   "metadata": {},
   "outputs": [],
   "source": [
    "df.groupby('product_name')['sales'].sum().sort_values(ascending=False).head(10)"
   ]
  }
 ],
 "metadata": {},
 "nbformat": 4,
 "nbformat_minor": 5
}
