{
 "cells": [
  {
   "cell_type": "markdown",
   "id": "e6efc3c2",
   "metadata": {},
   "source": [
    "# 02 - RFM Segmentation & Forecasting"
   ]
  },
  {
   "cell_type": "markdown",
   "id": "0acdc0df",
   "metadata": {},
   "source": [
    "## Objective\n",
    "Segment customers using RFM (Recency, Frequency, Monetary) and forecast monthly sales."
   ]
  },
  {
   "cell_type": "code",
   "execution_count": null,
   "id": "1257d3a1",
   "metadata": {},
   "outputs": [],
   "source": [
    "import pandas as pd\n",
    "import matplotlib.pyplot as plt\n",
    "import seaborn as sns\n",
    "from statsmodels.tsa.arima.model import ARIMA\n",
    "\n",
    "# Load dataset\n",
    "df = pd.read_csv('../data/cleaned/cleaned_orders.csv')\n",
    "df['order_date'] = pd.to_datetime(df['order_date'])"
   ]
  },
  {
   "cell_type": "markdown",
   "id": "2dd1080f",
   "metadata": {},
   "source": [
    "## RFM Segmentation"
   ]
  },
  {
   "cell_type": "code",
   "execution_count": null,
   "id": "fd55e4a9",
   "metadata": {},
   "outputs": [],
   "source": [
    "\n",
    "snapshot_date = df['order_date'].max() + pd.Timedelta(days=1)\n",
    "rfm = df.groupby('customer_id').agg({\n",
    "    'order_date': lambda x: (snapshot_date - x.max()).days,\n",
    "    'order_id': 'count',\n",
    "    'sales': 'sum'\n",
    "}).rename(columns={\n",
    "    'order_date': 'Recency',\n",
    "    'order_id': 'Frequency',\n",
    "    'sales': 'MonetaryValue'\n",
    "})\n",
    "\n",
    "# Score each column\n",
    "rfm['R'] = pd.qcut(rfm['Recency'], 4, labels=[4, 3, 2, 1]).astype(int)\n",
    "rfm['F'] = pd.qcut(rfm['Frequency'].rank(method='first'), 4, labels=[1, 2, 3, 4]).astype(int)\n",
    "rfm['M'] = pd.qcut(rfm['MonetaryValue'], 4, labels=[1, 2, 3, 4]).astype(int)\n",
    "\n",
    "rfm['RFM_Segment'] = rfm['R'].astype(str) + rfm['F'].astype(str) + rfm['M'].astype(str)\n",
    "rfm['RFM_Score'] = rfm[['R', 'F', 'M']].sum(axis=1)\n",
    "rfm.head()\n",
    "    "
   ]
  },
  {
   "cell_type": "markdown",
   "id": "e2bc7d53",
   "metadata": {},
   "source": [
    "## RFM Segment Distribution"
   ]
  },
  {
   "cell_type": "code",
   "execution_count": null,
   "id": "51ec12c9",
   "metadata": {},
   "outputs": [],
   "source": [
    "\n",
    "rfm['Segment'] = pd.cut(rfm['RFM_Score'], bins=[2, 5, 8, 11, 13], \n",
    "                        labels=['At Risk', 'Need Attention', 'Loyal', 'Champions'])\n",
    "rfm['Segment'].value_counts().plot(kind='bar', title='Customer Segments', figsize=(8,4))\n",
    "plt.ylabel('Customer Count')\n",
    "plt.tight_layout()\n",
    "plt.show()\n",
    "    "
   ]
  },
  {
   "cell_type": "markdown",
   "id": "e8fa11d4",
   "metadata": {},
   "source": [
    "## Sales Forecasting (ARIMA)"
   ]
  },
  {
   "cell_type": "code",
   "execution_count": null,
   "id": "8b3dd1d4",
   "metadata": {},
   "outputs": [],
   "source": [
    "\n",
    "monthly_sales = df.set_index('order_date').resample('M')['sales'].sum()\n",
    "model = ARIMA(monthly_sales, order=(1,1,1))\n",
    "fitted = model.fit()\n",
    "forecast = fitted.forecast(steps=6)\n",
    "\n",
    "monthly_sales.plot(label='Historical', figsize=(10,5))\n",
    "forecast.plot(label='Forecast', style='--')\n",
    "plt.title('Monthly Sales Forecast')\n",
    "plt.legend()\n",
    "plt.show()\n",
    "    "
   ]
  }
 ],
 "metadata": {},
 "nbformat": 4,
 "nbformat_minor": 5
}
