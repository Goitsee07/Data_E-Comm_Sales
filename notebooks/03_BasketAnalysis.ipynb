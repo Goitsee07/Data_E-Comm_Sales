{
 "cells": [
  {
   "cell_type": "markdown",
   "id": "3dac2e8e",
   "metadata": {},
   "source": [
    "# 03 - Market Basket Analysis"
   ]
  },
  {
   "cell_type": "markdown",
   "id": "a72c383c",
   "metadata": {},
   "source": [
    "## Objective\n",
    "Use association rules (Apriori) to find product combinations often bought together."
   ]
  },
  {
   "cell_type": "code",
   "execution_count": null,
   "id": "d6664418",
   "metadata": {},
   "outputs": [],
   "source": [
    "\n",
    "import pandas as pd\n",
    "from mlxtend.frequent_patterns import apriori, association_rules\n",
    "\n",
    "# Load data\n",
    "df = pd.read_csv('../data/cleaned/cleaned_orders.csv')\n",
    "\n",
    "# Filter relevant columns and remove nulls\n",
    "basket_df = df[['order_id', 'product_name']].dropna()\n",
    "\n",
    "# Create basket matrix (one-hot encoded)\n",
    "basket = (basket_df\n",
    "          .groupby(['order_id', 'product_name'])['product_name']\n",
    "          .count().unstack().fillna(0).applymap(lambda x: 1 if x > 0 else 0))\n",
    "\n",
    "basket.head()\n",
    "    "
   ]
  },
  {
   "cell_type": "markdown",
   "id": "26de97d5",
   "metadata": {},
   "source": [
    "## Generate Frequent Itemsets"
   ]
  },
  {
   "cell_type": "code",
   "execution_count": null,
   "id": "2e5cc4e1",
   "metadata": {},
   "outputs": [],
   "source": [
    "\n",
    "frequent_items = apriori(basket, min_support=0.01, use_colnames=True)\n",
    "frequent_items.sort_values(by='support', ascending=False).head(10)\n",
    "    "
   ]
  },
  {
   "cell_type": "markdown",
   "id": "4f1269c7",
   "metadata": {},
   "source": [
    "## Association Rules"
   ]
  },
  {
   "cell_type": "code",
   "execution_count": null,
   "id": "c70e2f09",
   "metadata": {},
   "outputs": [],
   "source": [
    "\n",
    "rules = association_rules(frequent_items, metric=\"lift\", min_threshold=1.0)\n",
    "rules = rules.sort_values(by='lift', ascending=False)\n",
    "rules[['antecedents', 'consequents', 'support', 'confidence', 'lift']].head(10)\n",
    "    "
   ]
  }
 ],
 "metadata": {},
 "nbformat": 4,
 "nbformat_minor": 5
}
